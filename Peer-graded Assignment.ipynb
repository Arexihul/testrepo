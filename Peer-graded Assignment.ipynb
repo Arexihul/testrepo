{
 "cells": [
  {
   "cell_type": "markdown",
   "metadata": {},
   "source": [
    "<center>\n",
    "    <img src=\"https://cf-courses-data.s3.us.cloud-object-storage.appdomain.cloud/IBMDeveloperSkillsNetwork-DS0105EN-SkillsNetwork/labs/Module2/images/SN_web_lightmode.png\" width=\"300\" alt=\"cognitiveclass.ai logo\">\n",
    "</center>\n"
   ]
  },
  {
   "cell_type": "markdown",
   "metadata": {},
   "source": [
    "#### Add your code below following the instructions given in the course\n"
   ]
  },
  {
   "cell_type": "markdown",
   "metadata": {},
   "source": [
    "<h1>My Jupyter Notebook on IBM Watson Studio<h1>"
   ]
  },
  {
   "cell_type": "markdown",
   "metadata": {},
   "source": [
    "__Eyüp Ülgen__\n",
    "<br>Data Scientist"
   ]
  },
  {
   "cell_type": "markdown",
   "metadata": {},
   "source": [
    "_I am interested in data science because I believe it is the key to the door opening to future technological developments. More importantly, I enjoy playing with data and gaining insights from it._"
   ]
  },
  {
   "cell_type": "markdown",
   "metadata": {},
   "source": [
    "<h3>The following code checks whether the given number is a prime number or not.<h3>"
   ]
  },
  {
   "cell_type": "code",
   "execution_count": 3,
   "metadata": {},
   "outputs": [
    {
     "name": "stdin",
     "output_type": "stream",
     "text": [
      "Enter a number:  12\n"
     ]
    },
    {
     "name": "stdout",
     "output_type": "stream",
     "text": [
      "12 is not a prime number\n"
     ]
    }
   ],
   "source": [
    "num = int(input(\"Enter a number: \"))\n",
    "\n",
    "if num > 1:\n",
    "   for i in range(2, int(num**(1/2))+1):\n",
    "       if (num % i) == 0:\n",
    "           print(num, \"is not a prime number\")\n",
    "           break\n",
    "   else:\n",
    "       print(num, \"is a prime number\")\n",
    "else:\n",
    "   print(num, \"is not a prime number\")\n"
   ]
  },
  {
   "cell_type": "markdown",
   "metadata": {},
   "source": [
    "This is the horizontal rule\n",
    "***\n",
    "<br>\n",
    "\n",
    "Bulleted list\n",
    "\n",
    "* 1a\n",
    "* 2b\n",
    "* 3c\n",
    "<br>\n",
    "\n",
    "Numbered list\n",
    "\n",
    "1. a\n",
    "2. b\n",
    "3. c\n",
    "<br>\n",
    "\n",
    "Table\n",
    "\n",
    "| Movie | Director |\n",
    "| --- | --- |\n",
    "| Lost Highway | David Lynch |\n",
    "| Snatch | Guy Ritchie |\n",
    "<br>\n",
    "\n",
    "https://www.python.org"
   ]
  },
  {
   "cell_type": "code",
   "execution_count": null,
   "metadata": {},
   "outputs": [],
   "source": []
  }
 ],
 "metadata": {
  "kernelspec": {
   "display_name": "Python",
   "language": "python",
   "name": "conda-env-python-py"
  },
  "language_info": {
   "codemirror_mode": {
    "name": "ipython",
    "version": 3
   },
   "file_extension": ".py",
   "mimetype": "text/x-python",
   "name": "python",
   "nbconvert_exporter": "python",
   "pygments_lexer": "ipython3",
   "version": "3.7.12"
  }
 },
 "nbformat": 4,
 "nbformat_minor": 4
}
